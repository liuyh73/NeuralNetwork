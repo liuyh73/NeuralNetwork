{
 "cells": [
  {
   "cell_type": "code",
   "execution_count": 11,
   "metadata": {},
   "outputs": [
    {
     "name": "stdout",
     "output_type": "stream",
     "text": [
      "( 0.0 , 0.0 ) ( 1.0 , 1.2 ) ( 2.0 , 0.9 ) ( 3.0 , 0.2 ) ( 4.0 , -0.8 ) ( 5.0 , -1.0 ) "
     ]
    },
    {
     "data": {
      "image/png": "[encoded data removed]",
      "text/plain": [
       "<Figure size 432x288 with 1 Axes>"
      ]
     },
     "metadata": {
      "needs_background": "light"
     },
     "output_type": "display_data"
    }
   ],
   "source": [
    "import torch\n",
    "import numpy as np\n",
    "import matplotlib.pyplot as plt\n",
    "xs = torch.load('data/xs.pt').numpy()\n",
    "ys = torch.load('data/ys.pt').numpy()\n",
    "for i in range(len(xs)):\n",
    "    print('(', xs[i],',', ys[i], ')', end=' ')\n",
    "coefficients = np.polyfit(xs, ys, 3)\n",
    "func = np.poly1d(coefficients)\n",
    "x = np.linspace(-2,6,1000)\n",
    "y = func(x)\n",
    "plt.xlim(-2.5,6.5)\n",
    "plt.ylim(-2.0,2.0)\n",
    "plt.xticks(np.linspace(-2,6,9))\n",
    "plt.yticks(np.linspace(-2.0,2.0,9))\n",
    "plt.plot(x,y,color='orange')\n",
    "plt.scatter(xs,ys)\n",
    "plt.show()"
   ]
  },
  {
   "cell_type": "code",
   "execution_count": 16,
   "metadata": {},
   "outputs": [
    {
     "name": "stdout",
     "output_type": "stream",
     "text": [
      "tensor([10., 11., 12., 13., 14., 15., 16., 17., 18., 19., 20., 21., 22., 23.,\n",
      "        24., 25., 26., 27., 28., 29., 30., 31., 32., 33., 34., 35., 36., 37.,\n",
      "        38., 39., 40., 41., 42., 43., 44., 45., 46., 47., 48., 49.]) \n",
      " tensor(49.) \n",
      " tensor(10.)\n"
     ]
    }
   ],
   "source": [
    "import torch\n",
    "tsr = torch.Tensor([i for i in range(10,50)])\n",
    "print(tsr, '\\n', torch.max(tsr), '\\n', torch.min(tsr))"
   ]
  },
  {
   "cell_type": "code",
   "execution_count": 22,
   "metadata": {},
   "outputs": [
    {
     "name": "stdout",
     "output_type": "stream",
     "text": [
      "[[ 2.  0.  2.  4.  0.]\n",
      " [ 1.  4.  4.  3.  5.]\n",
      " [ 4.  3.  5.  9. -1.]\n",
      " [ 3.  4.  6.  2.  1.]\n",
      " [ 5.  3.  5.  1. -2.]]\n"
     ]
    }
   ],
   "source": [
    "import torch\n",
    "import numpy as np\n",
    "def Convolution(matrix1, matrix2):\n",
    "    res = np.zeros((5,5))\n",
    "    for i in range(5):\n",
    "        for j in range(5):\n",
    "            matrix1_sub = matrix1[i:i+3,j:j+3]\n",
    "            res[i][j] = np.sum(matrix1_sub * matrix2)\n",
    "    return res\n",
    "\n",
    "def main():\n",
    "    mtx1 = np.array([[0,0,0,0,0,0,0],[0,1,0,1,2,1,0],[0,0,2,1,0,1,0],[0,1,1,0,2,0,0],[0,2,2,1,1,0,0],[0,2,0,1,2,0,0],[0,0,0,0,0,0,0]])\n",
    "    mtx2 = np.array([[0,0,0,0,0,0,0],[0,2,0,2,1,1,0],[0,0,1,0,0,2,0],[0,1,0,0,2,1,0],[0,1,1,2,1,0,0],[0,1,0,1,1,1,0],[0,0,0,0,0,0,0]])\n",
    "    mtx1_mul = np.array([[1,0,1],[-1,1,0],[0,-1,0]])\n",
    "    mtx2_mul = np.array([[-1,0,1],[0,0,1],[1,1,1]])\n",
    "    res = Convolution(mtx1, mtx1_mul) + Convolution(mtx2, mtx2_mul)\n",
    "    print(res)\n",
    "if __name__ == '__main__':\n",
    "    main()"
   ]
  },
  {
   "cell_type": "code",
   "execution_count": null,
   "metadata": {},
   "outputs": [],
   "source": []
  }
 ],
 "metadata": {
  "kernelspec": {
   "display_name": "Python 3",
   "language": "python",
   "name": "python3"
  },
  "language_info": {
   "codemirror_mode": {
    "name": "ipython",
    "version": 3
   },
   "file_extension": ".py",
   "mimetype": "text/x-python",
   "name": "python",
   "nbconvert_exporter": "python",
   "pygments_lexer": "ipython3",
   "version": "3.7.2"
  }
 },
 "nbformat": 4,
 "nbformat_minor": 2
}
